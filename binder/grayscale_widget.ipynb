{
 "cells": [
  {
   "cell_type": "code",
   "execution_count": 7,
   "metadata": {
    "tags": []
   },
   "outputs": [
    {
     "data": {
      "application/vnd.jupyter.widget-view+json": {
       "model_id": "39e0e19a417f40d5bfdfec8fc03440a9",
       "version_major": 2,
       "version_minor": 0
      },
      "text/plain": [
       "interactive(children=(IntSlider(value=127, description='value', max=255), Output(layout=Layout(height='250px')…"
      ]
     },
     "metadata": {},
     "output_type": "display_data"
    }
   ],
   "source": [
    "# See: https://ipywidgets.readthedocs.io/en/latest/examples/Using%20Interact.html\n",
    "# for more details about the widgets\n",
    "%matplotlib inline\n",
    "from ipywidgets import interactive, fixed\n",
    "import matplotlib.pyplot as plt\n",
    "import numpy as np\n",
    "\n",
    "# Now using matplotlib for visualization\n",
    "def create_grayscale_pixel(value, size=255):\n",
    "    grayscale_img = np.ones((size, size), dtype=np.uint8) * value\n",
    "    plt_img = plt.imshow(grayscale_img, cmap=\"Greys\", vmin=0, vmax=255)\n",
    "    # This removes the ticks and keeps the black border\n",
    "    plt.xticks([], [])\n",
    "    plt.yticks([], [])\n",
    "    return plt_img\n",
    "\n",
    "interactive_plot = interactive(\n",
    "    create_grayscale_pixel, value=(0, 255), size=fixed(255)\n",
    ")\n",
    "output = interactive_plot.children[-1]\n",
    "output.layout.height = '250px'\n",
    "# output.layout.width = '350px'\n",
    "interactive_plot\n"
   ]
  },
  {
   "cell_type": "code",
   "execution_count": null,
   "metadata": {},
   "outputs": [],
   "source": []
  }
 ],
 "metadata": {
  "kernelspec": {
   "display_name": "Python [conda env:nbinteract] *",
   "language": "python",
   "name": "conda-env-nbinteract-py"
  },
  "language_info": {
   "codemirror_mode": {
    "name": "ipython",
    "version": 3
   },
   "file_extension": ".py",
   "mimetype": "text/x-python",
   "name": "python",
   "nbconvert_exporter": "python",
   "pygments_lexer": "ipython3",
   "version": "3.8.5"
  }
 },
 "nbformat": 4,
 "nbformat_minor": 2
}
