{
 "cells": [
  {
   "cell_type": "code",
   "execution_count": 13,
   "metadata": {},
   "outputs": [
    {
     "data": {
      "application/vnd.jupyter.widget-view+json": {
       "model_id": "0d241d1fb81e41b2a0cbc723fef61ffb",
       "version_major": 2,
       "version_minor": 0
      },
      "text/plain": [
       "interactive(children=(IntSlider(value=127, description='r', max=255), IntSlider(value=127, description='g', ma…"
      ]
     },
     "metadata": {},
     "output_type": "display_data"
    }
   ],
   "source": [
    "# See: https://ipywidgets.readthedocs.io/en/latest/examples/Using%20Interact.html\n",
    "# for more details about the widgets\n",
    "%matplotlib inline\n",
    "from ipywidgets import interactive, fixed\n",
    "import matplotlib.pyplot as plt\n",
    "import numpy as np\n",
    "\n",
    "# Now using matplotlib for visualization\n",
    "def create_rgb_pixel(r, g, b, size=255):\n",
    "    rgb_img = np.ones((size, size, 3), dtype=np.uint8) * np.array([[[r, g, b]]], dtype=np.uint8)\n",
    "    plt_img = plt.imshow(rgb_img, vmin=0, vmax=255)\n",
    "    # This removes the ticks and keeps the black border\n",
    "    plt.xticks([], [])\n",
    "    plt.yticks([], [])\n",
    "    return plt_img\n",
    "\n",
    "interactive_plot = interactive(\n",
    "    create_rgb_pixel, r=(0, 255), g=(0, 255), b=(0, 255), size=fixed(255)\n",
    ")\n",
    "output = interactive_plot.children[-1]\n",
    "output.layout.height = '250px'\n",
    "interactive_plot"
   ]
  }
 ],
 "metadata": {
  "kernelspec": {
   "display_name": "Python [conda env:myfastai]",
   "language": "python",
   "name": "conda-env-myfastai-py"
  },
  "language_info": {
   "codemirror_mode": {
    "name": "ipython",
    "version": 3
   },
   "file_extension": ".py",
   "mimetype": "text/x-python",
   "name": "python",
   "nbconvert_exporter": "python",
   "pygments_lexer": "ipython3",
   "version": "3.8.5"
  }
 },
 "nbformat": 4,
 "nbformat_minor": 2
}
